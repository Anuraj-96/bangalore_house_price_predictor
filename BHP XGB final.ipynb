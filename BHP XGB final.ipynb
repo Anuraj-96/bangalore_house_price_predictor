{
 "cells": [
  {
   "cell_type": "code",
   "execution_count": 677,
   "id": "c487808e-c6bd-4fa0-90d6-f2e271003bf6",
   "metadata": {},
   "outputs": [],
   "source": [
    "import pandas as pd\n",
    "import numpy as np\n",
    "from matplotlib import pyplot  as plt\n",
    "import seaborn as sns\n",
    "import matplotlib"
   ]
  },
  {
   "cell_type": "code",
   "execution_count": 678,
   "id": "9aa667cc-d617-4669-9445-1be835320017",
   "metadata": {},
   "outputs": [
    {
     "data": {
      "text/html": [
       "<div>\n",
       "<style scoped>\n",
       "    .dataframe tbody tr th:only-of-type {\n",
       "        vertical-align: middle;\n",
       "    }\n",
       "\n",
       "    .dataframe tbody tr th {\n",
       "        vertical-align: top;\n",
       "    }\n",
       "\n",
       "    .dataframe thead th {\n",
       "        text-align: right;\n",
       "    }\n",
       "</style>\n",
       "<table border=\"1\" class=\"dataframe\">\n",
       "  <thead>\n",
       "    <tr style=\"text-align: right;\">\n",
       "      <th></th>\n",
       "      <th>area_type</th>\n",
       "      <th>availability</th>\n",
       "      <th>location</th>\n",
       "      <th>size</th>\n",
       "      <th>society</th>\n",
       "      <th>total_sqft</th>\n",
       "      <th>bath</th>\n",
       "      <th>balcony</th>\n",
       "      <th>price</th>\n",
       "    </tr>\n",
       "  </thead>\n",
       "  <tbody>\n",
       "    <tr>\n",
       "      <th>0</th>\n",
       "      <td>Super built-up  Area</td>\n",
       "      <td>19-Dec</td>\n",
       "      <td>Electronic City Phase II</td>\n",
       "      <td>2 BHK</td>\n",
       "      <td>Coomee</td>\n",
       "      <td>1056</td>\n",
       "      <td>2.0</td>\n",
       "      <td>1.0</td>\n",
       "      <td>39.07</td>\n",
       "    </tr>\n",
       "    <tr>\n",
       "      <th>1</th>\n",
       "      <td>Plot  Area</td>\n",
       "      <td>Ready To Move</td>\n",
       "      <td>Chikka Tirupathi</td>\n",
       "      <td>4 Bedroom</td>\n",
       "      <td>Theanmp</td>\n",
       "      <td>2600</td>\n",
       "      <td>5.0</td>\n",
       "      <td>3.0</td>\n",
       "      <td>120.00</td>\n",
       "    </tr>\n",
       "    <tr>\n",
       "      <th>2</th>\n",
       "      <td>Built-up  Area</td>\n",
       "      <td>Ready To Move</td>\n",
       "      <td>Uttarahalli</td>\n",
       "      <td>3 BHK</td>\n",
       "      <td>NaN</td>\n",
       "      <td>1440</td>\n",
       "      <td>2.0</td>\n",
       "      <td>3.0</td>\n",
       "      <td>62.00</td>\n",
       "    </tr>\n",
       "    <tr>\n",
       "      <th>3</th>\n",
       "      <td>Super built-up  Area</td>\n",
       "      <td>Ready To Move</td>\n",
       "      <td>Lingadheeranahalli</td>\n",
       "      <td>3 BHK</td>\n",
       "      <td>Soiewre</td>\n",
       "      <td>1521</td>\n",
       "      <td>3.0</td>\n",
       "      <td>1.0</td>\n",
       "      <td>95.00</td>\n",
       "    </tr>\n",
       "    <tr>\n",
       "      <th>4</th>\n",
       "      <td>Super built-up  Area</td>\n",
       "      <td>Ready To Move</td>\n",
       "      <td>Kothanur</td>\n",
       "      <td>2 BHK</td>\n",
       "      <td>NaN</td>\n",
       "      <td>1200</td>\n",
       "      <td>2.0</td>\n",
       "      <td>1.0</td>\n",
       "      <td>51.00</td>\n",
       "    </tr>\n",
       "    <tr>\n",
       "      <th>5</th>\n",
       "      <td>Super built-up  Area</td>\n",
       "      <td>Ready To Move</td>\n",
       "      <td>Whitefield</td>\n",
       "      <td>2 BHK</td>\n",
       "      <td>DuenaTa</td>\n",
       "      <td>1170</td>\n",
       "      <td>2.0</td>\n",
       "      <td>1.0</td>\n",
       "      <td>38.00</td>\n",
       "    </tr>\n",
       "    <tr>\n",
       "      <th>6</th>\n",
       "      <td>Super built-up  Area</td>\n",
       "      <td>18-May</td>\n",
       "      <td>Old Airport Road</td>\n",
       "      <td>4 BHK</td>\n",
       "      <td>Jaades</td>\n",
       "      <td>2732</td>\n",
       "      <td>4.0</td>\n",
       "      <td>NaN</td>\n",
       "      <td>204.00</td>\n",
       "    </tr>\n",
       "    <tr>\n",
       "      <th>7</th>\n",
       "      <td>Super built-up  Area</td>\n",
       "      <td>Ready To Move</td>\n",
       "      <td>Rajaji Nagar</td>\n",
       "      <td>4 BHK</td>\n",
       "      <td>Brway G</td>\n",
       "      <td>3300</td>\n",
       "      <td>4.0</td>\n",
       "      <td>NaN</td>\n",
       "      <td>600.00</td>\n",
       "    </tr>\n",
       "    <tr>\n",
       "      <th>8</th>\n",
       "      <td>Super built-up  Area</td>\n",
       "      <td>Ready To Move</td>\n",
       "      <td>Marathahalli</td>\n",
       "      <td>3 BHK</td>\n",
       "      <td>NaN</td>\n",
       "      <td>1310</td>\n",
       "      <td>3.0</td>\n",
       "      <td>1.0</td>\n",
       "      <td>63.25</td>\n",
       "    </tr>\n",
       "    <tr>\n",
       "      <th>9</th>\n",
       "      <td>Plot  Area</td>\n",
       "      <td>Ready To Move</td>\n",
       "      <td>Gandhi Bazar</td>\n",
       "      <td>6 Bedroom</td>\n",
       "      <td>NaN</td>\n",
       "      <td>1020</td>\n",
       "      <td>6.0</td>\n",
       "      <td>NaN</td>\n",
       "      <td>370.00</td>\n",
       "    </tr>\n",
       "  </tbody>\n",
       "</table>\n",
       "</div>"
      ],
      "text/plain": [
       "              area_type   availability                  location       size  \\\n",
       "0  Super built-up  Area         19-Dec  Electronic City Phase II      2 BHK   \n",
       "1            Plot  Area  Ready To Move          Chikka Tirupathi  4 Bedroom   \n",
       "2        Built-up  Area  Ready To Move               Uttarahalli      3 BHK   \n",
       "3  Super built-up  Area  Ready To Move        Lingadheeranahalli      3 BHK   \n",
       "4  Super built-up  Area  Ready To Move                  Kothanur      2 BHK   \n",
       "5  Super built-up  Area  Ready To Move                Whitefield      2 BHK   \n",
       "6  Super built-up  Area         18-May          Old Airport Road      4 BHK   \n",
       "7  Super built-up  Area  Ready To Move              Rajaji Nagar      4 BHK   \n",
       "8  Super built-up  Area  Ready To Move              Marathahalli      3 BHK   \n",
       "9            Plot  Area  Ready To Move              Gandhi Bazar  6 Bedroom   \n",
       "\n",
       "   society total_sqft  bath  balcony   price  \n",
       "0  Coomee        1056   2.0      1.0   39.07  \n",
       "1  Theanmp       2600   5.0      3.0  120.00  \n",
       "2      NaN       1440   2.0      3.0   62.00  \n",
       "3  Soiewre       1521   3.0      1.0   95.00  \n",
       "4      NaN       1200   2.0      1.0   51.00  \n",
       "5  DuenaTa       1170   2.0      1.0   38.00  \n",
       "6  Jaades        2732   4.0      NaN  204.00  \n",
       "7  Brway G       3300   4.0      NaN  600.00  \n",
       "8      NaN       1310   3.0      1.0   63.25  \n",
       "9      NaN       1020   6.0      NaN  370.00  "
      ]
     },
     "execution_count": 678,
     "metadata": {},
     "output_type": "execute_result"
    }
   ],
   "source": [
    "df1 = pd.read_csv(\"bengaluru_house_prices.csv\")\n",
    "df1.head(10)"
   ]
  },
  {
   "cell_type": "code",
   "execution_count": 679,
   "id": "6bb39169-b03c-4147-9592-28c8a849ee9b",
   "metadata": {},
   "outputs": [
    {
     "data": {
      "text/plain": [
       "(13320, 9)"
      ]
     },
     "execution_count": 679,
     "metadata": {},
     "output_type": "execute_result"
    }
   ],
   "source": [
    "df1.shape"
   ]
  },
  {
   "cell_type": "code",
   "execution_count": 680,
   "id": "3c4b21d5-685b-4de1-9199-a79099a87816",
   "metadata": {},
   "outputs": [
    {
     "name": "stdout",
     "output_type": "stream",
     "text": [
      "<class 'pandas.core.frame.DataFrame'>\n",
      "RangeIndex: 13320 entries, 0 to 13319\n",
      "Data columns (total 9 columns):\n",
      " #   Column        Non-Null Count  Dtype  \n",
      "---  ------        --------------  -----  \n",
      " 0   area_type     13320 non-null  object \n",
      " 1   availability  13320 non-null  object \n",
      " 2   location      13319 non-null  object \n",
      " 3   size          13304 non-null  object \n",
      " 4   society       7818 non-null   object \n",
      " 5   total_sqft    13320 non-null  object \n",
      " 6   bath          13247 non-null  float64\n",
      " 7   balcony       12711 non-null  float64\n",
      " 8   price         13320 non-null  float64\n",
      "dtypes: float64(3), object(6)\n",
      "memory usage: 936.7+ KB\n"
     ]
    }
   ],
   "source": [
    "df1.info()"
   ]
  },
  {
   "cell_type": "code",
   "execution_count": 681,
   "id": "29756257-5ac5-4b57-8cae-14f7b7ff5188",
   "metadata": {},
   "outputs": [
    {
     "data": {
      "text/plain": [
       "area_type          0\n",
       "availability       0\n",
       "location           1\n",
       "size              16\n",
       "society         5502\n",
       "total_sqft         0\n",
       "bath              73\n",
       "balcony          609\n",
       "price              0\n",
       "dtype: int64"
      ]
     },
     "execution_count": 681,
     "metadata": {},
     "output_type": "execute_result"
    }
   ],
   "source": [
    "df1.isnull().sum()"
   ]
  },
  {
   "cell_type": "code",
   "execution_count": 682,
   "id": "b3690751-5b38-4545-9f0d-107e0a7db298",
   "metadata": {},
   "outputs": [
    {
     "data": {
      "text/plain": [
       "array(['1056', '2600', '1440', ..., '1133 - 1384', '774', '4689'],\n",
       "      dtype=object)"
      ]
     },
     "execution_count": 682,
     "metadata": {},
     "output_type": "execute_result"
    }
   ],
   "source": [
    "df1[\"total_sqft\"].unique()"
   ]
  },
  {
   "cell_type": "code",
   "execution_count": 683,
   "id": "08310169-e314-45e1-afd2-96e6a8b545d6",
   "metadata": {},
   "outputs": [
    {
     "data": {
      "text/plain": [
       "size\n",
       "2 BHK         5199\n",
       "3 BHK         4310\n",
       "4 Bedroom      826\n",
       "4 BHK          591\n",
       "3 Bedroom      547\n",
       "1 BHK          538\n",
       "2 Bedroom      329\n",
       "5 Bedroom      297\n",
       "6 Bedroom      191\n",
       "1 Bedroom      105\n",
       "8 Bedroom       84\n",
       "7 Bedroom       83\n",
       "5 BHK           59\n",
       "9 Bedroom       46\n",
       "6 BHK           30\n",
       "7 BHK           17\n",
       "1 RK            13\n",
       "10 Bedroom      12\n",
       "9 BHK            8\n",
       "8 BHK            5\n",
       "11 BHK           2\n",
       "11 Bedroom       2\n",
       "10 BHK           2\n",
       "14 BHK           1\n",
       "13 BHK           1\n",
       "12 Bedroom       1\n",
       "27 BHK           1\n",
       "43 Bedroom       1\n",
       "16 BHK           1\n",
       "19 BHK           1\n",
       "18 Bedroom       1\n",
       "Name: count, dtype: int64"
      ]
     },
     "execution_count": 683,
     "metadata": {},
     "output_type": "execute_result"
    }
   ],
   "source": [
    "df1[\"size\"].value_counts()"
   ]
  },
  {
   "cell_type": "code",
   "execution_count": 684,
   "id": "842f4712-99d5-48db-b559-e3d221e63586",
   "metadata": {},
   "outputs": [
    {
     "data": {
      "text/plain": [
       "area_type\n",
       "Super built-up  Area    8790\n",
       "Built-up  Area          2418\n",
       "Plot  Area              2025\n",
       "Carpet  Area              87\n",
       "Name: count, dtype: int64"
      ]
     },
     "execution_count": 684,
     "metadata": {},
     "output_type": "execute_result"
    }
   ],
   "source": [
    "df1[\"area_type\"].value_counts()"
   ]
  },
  {
   "cell_type": "code",
   "execution_count": 685,
   "id": "22beb213-cdf3-4cc2-850e-cf37b5efd3d7",
   "metadata": {},
   "outputs": [
    {
     "data": {
      "text/plain": [
       "balcony\n",
       "2.0    5113\n",
       "1.0    4897\n",
       "3.0    1672\n",
       "0.0    1029\n",
       "Name: count, dtype: int64"
      ]
     },
     "execution_count": 685,
     "metadata": {},
     "output_type": "execute_result"
    }
   ],
   "source": [
    "df1[\"balcony\"].value_counts()"
   ]
  },
  {
   "cell_type": "markdown",
   "id": "394a1706-e670-4bd3-87be-6d7be59d819e",
   "metadata": {},
   "source": [
    "# **DATA CLEANING**"
   ]
  },
  {
   "cell_type": "code",
   "execution_count": 686,
   "id": "84d67f25-e6ce-44bb-90d8-31f10fbebc01",
   "metadata": {},
   "outputs": [],
   "source": [
    "#DROPPING COLUMNS\n",
    "\n",
    "df2 = df1.drop([\"area_type\",\"availability\",\"society\",\"balcony\"],axis=1)"
   ]
  },
  {
   "cell_type": "code",
   "execution_count": 687,
   "id": "b90075d8-7c1c-4834-a3fd-5e8cfec86d2b",
   "metadata": {},
   "outputs": [
    {
     "data": {
      "text/html": [
       "<div>\n",
       "<style scoped>\n",
       "    .dataframe tbody tr th:only-of-type {\n",
       "        vertical-align: middle;\n",
       "    }\n",
       "\n",
       "    .dataframe tbody tr th {\n",
       "        vertical-align: top;\n",
       "    }\n",
       "\n",
       "    .dataframe thead th {\n",
       "        text-align: right;\n",
       "    }\n",
       "</style>\n",
       "<table border=\"1\" class=\"dataframe\">\n",
       "  <thead>\n",
       "    <tr style=\"text-align: right;\">\n",
       "      <th></th>\n",
       "      <th>location</th>\n",
       "      <th>size</th>\n",
       "      <th>total_sqft</th>\n",
       "      <th>bath</th>\n",
       "      <th>price</th>\n",
       "    </tr>\n",
       "  </thead>\n",
       "  <tbody>\n",
       "    <tr>\n",
       "      <th>0</th>\n",
       "      <td>Electronic City Phase II</td>\n",
       "      <td>2 BHK</td>\n",
       "      <td>1056</td>\n",
       "      <td>2.0</td>\n",
       "      <td>39.07</td>\n",
       "    </tr>\n",
       "    <tr>\n",
       "      <th>1</th>\n",
       "      <td>Chikka Tirupathi</td>\n",
       "      <td>4 Bedroom</td>\n",
       "      <td>2600</td>\n",
       "      <td>5.0</td>\n",
       "      <td>120.00</td>\n",
       "    </tr>\n",
       "    <tr>\n",
       "      <th>2</th>\n",
       "      <td>Uttarahalli</td>\n",
       "      <td>3 BHK</td>\n",
       "      <td>1440</td>\n",
       "      <td>2.0</td>\n",
       "      <td>62.00</td>\n",
       "    </tr>\n",
       "    <tr>\n",
       "      <th>3</th>\n",
       "      <td>Lingadheeranahalli</td>\n",
       "      <td>3 BHK</td>\n",
       "      <td>1521</td>\n",
       "      <td>3.0</td>\n",
       "      <td>95.00</td>\n",
       "    </tr>\n",
       "    <tr>\n",
       "      <th>4</th>\n",
       "      <td>Kothanur</td>\n",
       "      <td>2 BHK</td>\n",
       "      <td>1200</td>\n",
       "      <td>2.0</td>\n",
       "      <td>51.00</td>\n",
       "    </tr>\n",
       "  </tbody>\n",
       "</table>\n",
       "</div>"
      ],
      "text/plain": [
       "                   location       size total_sqft  bath   price\n",
       "0  Electronic City Phase II      2 BHK       1056   2.0   39.07\n",
       "1          Chikka Tirupathi  4 Bedroom       2600   5.0  120.00\n",
       "2               Uttarahalli      3 BHK       1440   2.0   62.00\n",
       "3        Lingadheeranahalli      3 BHK       1521   3.0   95.00\n",
       "4                  Kothanur      2 BHK       1200   2.0   51.00"
      ]
     },
     "execution_count": 687,
     "metadata": {},
     "output_type": "execute_result"
    }
   ],
   "source": [
    "df2.head()"
   ]
  },
  {
   "cell_type": "markdown",
   "id": "ae0c5870-cd1a-40e8-97b0-cabb38a1ec22",
   "metadata": {},
   "source": [
    "**HANDLING NULL VALUES**"
   ]
  },
  {
   "cell_type": "code",
   "execution_count": 688,
   "id": "240b0b6c-d1b1-4a0f-b0f8-0030090c049d",
   "metadata": {},
   "outputs": [
    {
     "data": {
      "text/plain": [
       "(13246, 5)"
      ]
     },
     "execution_count": 688,
     "metadata": {},
     "output_type": "execute_result"
    }
   ],
   "source": [
    "df3 = df2.dropna()\n",
    "df3.shape"
   ]
  },
  {
   "cell_type": "markdown",
   "id": "2549bd24-ae4c-4eca-8629-2e2d92614bc2",
   "metadata": {},
   "source": [
    "# **FEATURE ENGINEERING**"
   ]
  },
  {
   "cell_type": "markdown",
   "id": "ae1b20d6-0a99-4b64-9304-289cbe5cbe99",
   "metadata": {},
   "source": [
    "**CREATE A NEW COLUMN 'BHK'**"
   ]
  },
  {
   "cell_type": "code",
   "execution_count": 689,
   "id": "68d9c798-4ebc-4dc9-8187-97f9ced4fdc5",
   "metadata": {},
   "outputs": [
    {
     "name": "stderr",
     "output_type": "stream",
     "text": [
      "/var/folders/vl/l17yt_jx1kdgs6w9y_b_wtjr0000gn/T/ipykernel_51089/2222732687.py:1: SettingWithCopyWarning: \n",
      "A value is trying to be set on a copy of a slice from a DataFrame.\n",
      "Try using .loc[row_indexer,col_indexer] = value instead\n",
      "\n",
      "See the caveats in the documentation: https://pandas.pydata.org/pandas-docs/stable/user_guide/indexing.html#returning-a-view-versus-a-copy\n",
      "  df3[\"bhk\"] = df3['size'].apply(lambda x: int(x.split(' ')[0]))\n"
     ]
    }
   ],
   "source": [
    "df3[\"bhk\"] = df3['size'].apply(lambda x: int(x.split(' ')[0]))"
   ]
  },
  {
   "cell_type": "code",
   "execution_count": 690,
   "id": "8ab7185d-c83e-4964-979d-99e681a26011",
   "metadata": {},
   "outputs": [],
   "source": [
    "df3 = df3.drop(\"size\",axis=1)"
   ]
  },
  {
   "cell_type": "markdown",
   "id": "1777d7ba-ced9-4c50-92ec-960466a53e97",
   "metadata": {},
   "source": [
    "**TRANSFORMING total_sqft into NUMERICAL FORMAT**"
   ]
  },
  {
   "cell_type": "code",
   "execution_count": 691,
   "id": "142f6fa7-b297-477d-b32d-ddcb55e48976",
   "metadata": {},
   "outputs": [],
   "source": [
    "def is_float(x) :\n",
    "    try:\n",
    "        float(x)\n",
    "    except:\n",
    "        return False\n",
    "    return True\n",
    "    "
   ]
  },
  {
   "cell_type": "code",
   "execution_count": 692,
   "id": "4ec1a7a8-58be-40b5-9b28-9f512c86f091",
   "metadata": {},
   "outputs": [
    {
     "data": {
      "text/html": [
       "<div>\n",
       "<style scoped>\n",
       "    .dataframe tbody tr th:only-of-type {\n",
       "        vertical-align: middle;\n",
       "    }\n",
       "\n",
       "    .dataframe tbody tr th {\n",
       "        vertical-align: top;\n",
       "    }\n",
       "\n",
       "    .dataframe thead th {\n",
       "        text-align: right;\n",
       "    }\n",
       "</style>\n",
       "<table border=\"1\" class=\"dataframe\">\n",
       "  <thead>\n",
       "    <tr style=\"text-align: right;\">\n",
       "      <th></th>\n",
       "      <th>location</th>\n",
       "      <th>total_sqft</th>\n",
       "      <th>bath</th>\n",
       "      <th>price</th>\n",
       "      <th>bhk</th>\n",
       "    </tr>\n",
       "  </thead>\n",
       "  <tbody>\n",
       "    <tr>\n",
       "      <th>30</th>\n",
       "      <td>Yelahanka</td>\n",
       "      <td>2100 - 2850</td>\n",
       "      <td>4.0</td>\n",
       "      <td>186.000</td>\n",
       "      <td>4</td>\n",
       "    </tr>\n",
       "    <tr>\n",
       "      <th>122</th>\n",
       "      <td>Hebbal</td>\n",
       "      <td>3067 - 8156</td>\n",
       "      <td>4.0</td>\n",
       "      <td>477.000</td>\n",
       "      <td>4</td>\n",
       "    </tr>\n",
       "    <tr>\n",
       "      <th>137</th>\n",
       "      <td>8th Phase JP Nagar</td>\n",
       "      <td>1042 - 1105</td>\n",
       "      <td>2.0</td>\n",
       "      <td>54.005</td>\n",
       "      <td>2</td>\n",
       "    </tr>\n",
       "    <tr>\n",
       "      <th>165</th>\n",
       "      <td>Sarjapur</td>\n",
       "      <td>1145 - 1340</td>\n",
       "      <td>2.0</td>\n",
       "      <td>43.490</td>\n",
       "      <td>2</td>\n",
       "    </tr>\n",
       "    <tr>\n",
       "      <th>188</th>\n",
       "      <td>KR Puram</td>\n",
       "      <td>1015 - 1540</td>\n",
       "      <td>2.0</td>\n",
       "      <td>56.800</td>\n",
       "      <td>2</td>\n",
       "    </tr>\n",
       "    <tr>\n",
       "      <th>...</th>\n",
       "      <td>...</td>\n",
       "      <td>...</td>\n",
       "      <td>...</td>\n",
       "      <td>...</td>\n",
       "      <td>...</td>\n",
       "    </tr>\n",
       "    <tr>\n",
       "      <th>12975</th>\n",
       "      <td>Whitefield</td>\n",
       "      <td>850 - 1060</td>\n",
       "      <td>2.0</td>\n",
       "      <td>38.190</td>\n",
       "      <td>2</td>\n",
       "    </tr>\n",
       "    <tr>\n",
       "      <th>12990</th>\n",
       "      <td>Talaghattapura</td>\n",
       "      <td>1804 - 2273</td>\n",
       "      <td>3.0</td>\n",
       "      <td>122.000</td>\n",
       "      <td>3</td>\n",
       "    </tr>\n",
       "    <tr>\n",
       "      <th>13059</th>\n",
       "      <td>Harlur</td>\n",
       "      <td>1200 - 1470</td>\n",
       "      <td>2.0</td>\n",
       "      <td>72.760</td>\n",
       "      <td>2</td>\n",
       "    </tr>\n",
       "    <tr>\n",
       "      <th>13265</th>\n",
       "      <td>Hoodi</td>\n",
       "      <td>1133 - 1384</td>\n",
       "      <td>2.0</td>\n",
       "      <td>59.135</td>\n",
       "      <td>2</td>\n",
       "    </tr>\n",
       "    <tr>\n",
       "      <th>13299</th>\n",
       "      <td>Whitefield</td>\n",
       "      <td>2830 - 2882</td>\n",
       "      <td>5.0</td>\n",
       "      <td>154.500</td>\n",
       "      <td>4</td>\n",
       "    </tr>\n",
       "  </tbody>\n",
       "</table>\n",
       "<p>190 rows × 5 columns</p>\n",
       "</div>"
      ],
      "text/plain": [
       "                 location   total_sqft  bath    price  bhk\n",
       "30              Yelahanka  2100 - 2850   4.0  186.000    4\n",
       "122                Hebbal  3067 - 8156   4.0  477.000    4\n",
       "137    8th Phase JP Nagar  1042 - 1105   2.0   54.005    2\n",
       "165              Sarjapur  1145 - 1340   2.0   43.490    2\n",
       "188              KR Puram  1015 - 1540   2.0   56.800    2\n",
       "...                   ...          ...   ...      ...  ...\n",
       "12975          Whitefield   850 - 1060   2.0   38.190    2\n",
       "12990      Talaghattapura  1804 - 2273   3.0  122.000    3\n",
       "13059              Harlur  1200 - 1470   2.0   72.760    2\n",
       "13265               Hoodi  1133 - 1384   2.0   59.135    2\n",
       "13299          Whitefield  2830 - 2882   5.0  154.500    4\n",
       "\n",
       "[190 rows x 5 columns]"
      ]
     },
     "execution_count": 692,
     "metadata": {},
     "output_type": "execute_result"
    }
   ],
   "source": [
    "df3[~df3['total_sqft'].apply(is_float)]"
   ]
  },
  {
   "cell_type": "code",
   "execution_count": 693,
   "id": "d718fe96-fbe7-4cce-a5d7-a2a89764a070",
   "metadata": {},
   "outputs": [
    {
     "data": {
      "text/plain": [
       "array(['2100 - 2850', '3067 - 8156', '1042 - 1105', '1145 - 1340',\n",
       "       '1015 - 1540', '34.46Sq. Meter', '1195 - 1440', '4125Perch',\n",
       "       '1120 - 1145', '3090 - 5002', '1160 - 1195', '1000Sq. Meter',\n",
       "       '1115 - 1130', '1100Sq. Yards', '520 - 645', '1000 - 1285',\n",
       "       '650 - 665', '633 - 666', '5.31Acres', '30Acres', '1445 - 1455',\n",
       "       '884 - 1116', '850 - 1093', '716Sq. Meter', '547.34 - 827.31',\n",
       "       '580 - 650', '3425 - 3435', '1804 - 2273', '3630 - 3800',\n",
       "       '4000 - 5249'], dtype=object)"
      ]
     },
     "execution_count": 693,
     "metadata": {},
     "output_type": "execute_result"
    }
   ],
   "source": [
    "df3['total_sqft'][~df3['total_sqft'].apply(is_float)].values[0:30]"
   ]
  },
  {
   "cell_type": "markdown",
   "id": "8342df63-a10c-4ebf-97c1-7d5f726583b7",
   "metadata": {},
   "source": [
    "Above shows that 'total_sqft' column has values in ranges . So we will replace it with the average value. \n",
    "Also there are few other values such as Sq. Yards , Sq. Meter,Guntha . But we will drop such values since they are very few."
   ]
  },
  {
   "cell_type": "code",
   "execution_count": 694,
   "id": "0db5a6ae-8214-4364-a1f3-690c3d07615a",
   "metadata": {},
   "outputs": [],
   "source": [
    "def convert_sqft_to_num(x):\n",
    "    parts = x.split('-')\n",
    "    if len(parts) == 2:\n",
    "        return ( float(parts[0]) + float(parts[1]))/2\n",
    "    try:\n",
    "        return float(x)\n",
    "    except:\n",
    "        return None    #return None for non-numeric or problematic values "
   ]
  },
  {
   "cell_type": "code",
   "execution_count": 695,
   "id": "a8b5d106-c212-48e9-a43e-fd33f87ded91",
   "metadata": {},
   "outputs": [],
   "source": [
    "df4 = df3.copy()"
   ]
  },
  {
   "cell_type": "code",
   "execution_count": 696,
   "id": "2017d865-7690-48d6-bf1d-57c31b285fdc",
   "metadata": {},
   "outputs": [
    {
     "data": {
      "text/plain": [
       "location       0\n",
       "total_sqft    46\n",
       "bath           0\n",
       "price          0\n",
       "bhk            0\n",
       "dtype: int64"
      ]
     },
     "execution_count": 696,
     "metadata": {},
     "output_type": "execute_result"
    }
   ],
   "source": [
    "df4['total_sqft'] = df3['total_sqft'].apply(convert_sqft_to_num)\n",
    "df4.isnull().sum()"
   ]
  },
  {
   "cell_type": "code",
   "execution_count": 697,
   "id": "858faaa7-7bda-449a-b68c-4c270a1b4a5a",
   "metadata": {},
   "outputs": [
    {
     "data": {
      "text/plain": [
       "(13200, 5)"
      ]
     },
     "execution_count": 697,
     "metadata": {},
     "output_type": "execute_result"
    }
   ],
   "source": [
    "#Dropping the rows with null values\n",
    "df4=df4.dropna()\n",
    "df4.shape"
   ]
  },
  {
   "cell_type": "markdown",
   "id": "0710cf2c-2e9f-4cdc-b8d8-f836502316a4",
   "metadata": {},
   "source": [
    "**CREATING A NEW COLUMN 'price_per_sqft'**"
   ]
  },
  {
   "cell_type": "code",
   "execution_count": 698,
   "id": "177bd1fd-a9b7-4e80-ac21-75a481b3608f",
   "metadata": {},
   "outputs": [
    {
     "data": {
      "text/html": [
       "<div>\n",
       "<style scoped>\n",
       "    .dataframe tbody tr th:only-of-type {\n",
       "        vertical-align: middle;\n",
       "    }\n",
       "\n",
       "    .dataframe tbody tr th {\n",
       "        vertical-align: top;\n",
       "    }\n",
       "\n",
       "    .dataframe thead th {\n",
       "        text-align: right;\n",
       "    }\n",
       "</style>\n",
       "<table border=\"1\" class=\"dataframe\">\n",
       "  <thead>\n",
       "    <tr style=\"text-align: right;\">\n",
       "      <th></th>\n",
       "      <th>location</th>\n",
       "      <th>total_sqft</th>\n",
       "      <th>bath</th>\n",
       "      <th>price</th>\n",
       "      <th>bhk</th>\n",
       "      <th>price_per_sqft</th>\n",
       "    </tr>\n",
       "  </thead>\n",
       "  <tbody>\n",
       "    <tr>\n",
       "      <th>0</th>\n",
       "      <td>Electronic City Phase II</td>\n",
       "      <td>1056.0</td>\n",
       "      <td>2.0</td>\n",
       "      <td>39.07</td>\n",
       "      <td>2</td>\n",
       "      <td>3699.81</td>\n",
       "    </tr>\n",
       "    <tr>\n",
       "      <th>1</th>\n",
       "      <td>Chikka Tirupathi</td>\n",
       "      <td>2600.0</td>\n",
       "      <td>5.0</td>\n",
       "      <td>120.00</td>\n",
       "      <td>4</td>\n",
       "      <td>4615.38</td>\n",
       "    </tr>\n",
       "    <tr>\n",
       "      <th>2</th>\n",
       "      <td>Uttarahalli</td>\n",
       "      <td>1440.0</td>\n",
       "      <td>2.0</td>\n",
       "      <td>62.00</td>\n",
       "      <td>3</td>\n",
       "      <td>4305.56</td>\n",
       "    </tr>\n",
       "    <tr>\n",
       "      <th>3</th>\n",
       "      <td>Lingadheeranahalli</td>\n",
       "      <td>1521.0</td>\n",
       "      <td>3.0</td>\n",
       "      <td>95.00</td>\n",
       "      <td>3</td>\n",
       "      <td>6245.89</td>\n",
       "    </tr>\n",
       "    <tr>\n",
       "      <th>4</th>\n",
       "      <td>Kothanur</td>\n",
       "      <td>1200.0</td>\n",
       "      <td>2.0</td>\n",
       "      <td>51.00</td>\n",
       "      <td>2</td>\n",
       "      <td>4250.00</td>\n",
       "    </tr>\n",
       "  </tbody>\n",
       "</table>\n",
       "</div>"
      ],
      "text/plain": [
       "                   location  total_sqft  bath   price  bhk  price_per_sqft\n",
       "0  Electronic City Phase II      1056.0   2.0   39.07    2         3699.81\n",
       "1          Chikka Tirupathi      2600.0   5.0  120.00    4         4615.38\n",
       "2               Uttarahalli      1440.0   2.0   62.00    3         4305.56\n",
       "3        Lingadheeranahalli      1521.0   3.0   95.00    3         6245.89\n",
       "4                  Kothanur      1200.0   2.0   51.00    2         4250.00"
      ]
     },
     "execution_count": 698,
     "metadata": {},
     "output_type": "execute_result"
    }
   ],
   "source": [
    "df5 = df4.copy()\n",
    "df5['price_per_sqft'] = (df5['price']*100000/df5['total_sqft']).round(2)\n",
    "df5.head()"
   ]
  },
  {
   "cell_type": "markdown",
   "id": "a94bc95f-4590-4907-baee-80ffd06c8811",
   "metadata": {},
   "source": [
    "**EXAMINE 'location' COLUMN**"
   ]
  },
  {
   "cell_type": "code",
   "execution_count": 699,
   "id": "48e36908-47c1-48b5-8c2b-b27083f10ed8",
   "metadata": {},
   "outputs": [],
   "source": [
    "df5[\"location\"] = df5[\"location\"].apply(lambda x : x.strip())"
   ]
  },
  {
   "cell_type": "markdown",
   "id": "065396d8-adf3-4661-b27f-9cfa3854772e",
   "metadata": {},
   "source": [
    "## **OUTLIER REMOVAL**"
   ]
  },
  {
   "cell_type": "code",
   "execution_count": 700,
   "id": "4dc63af8-8414-44bf-bb3c-39f3456e6eaf",
   "metadata": {},
   "outputs": [
    {
     "data": {
      "text/html": [
       "<div>\n",
       "<style scoped>\n",
       "    .dataframe tbody tr th:only-of-type {\n",
       "        vertical-align: middle;\n",
       "    }\n",
       "\n",
       "    .dataframe tbody tr th {\n",
       "        vertical-align: top;\n",
       "    }\n",
       "\n",
       "    .dataframe thead th {\n",
       "        text-align: right;\n",
       "    }\n",
       "</style>\n",
       "<table border=\"1\" class=\"dataframe\">\n",
       "  <thead>\n",
       "    <tr style=\"text-align: right;\">\n",
       "      <th></th>\n",
       "      <th>total_sqft</th>\n",
       "      <th>bath</th>\n",
       "      <th>price</th>\n",
       "      <th>bhk</th>\n",
       "      <th>price_per_sqft</th>\n",
       "    </tr>\n",
       "  </thead>\n",
       "  <tbody>\n",
       "    <tr>\n",
       "      <th>count</th>\n",
       "      <td>13200.000000</td>\n",
       "      <td>13200.000000</td>\n",
       "      <td>13200.000000</td>\n",
       "      <td>13200.000000</td>\n",
       "      <td>1.320000e+04</td>\n",
       "    </tr>\n",
       "    <tr>\n",
       "      <th>mean</th>\n",
       "      <td>1555.302783</td>\n",
       "      <td>2.691136</td>\n",
       "      <td>112.276178</td>\n",
       "      <td>2.800833</td>\n",
       "      <td>7.920759e+03</td>\n",
       "    </tr>\n",
       "    <tr>\n",
       "      <th>std</th>\n",
       "      <td>1237.323445</td>\n",
       "      <td>1.338915</td>\n",
       "      <td>149.175995</td>\n",
       "      <td>1.292843</td>\n",
       "      <td>1.067272e+05</td>\n",
       "    </tr>\n",
       "    <tr>\n",
       "      <th>min</th>\n",
       "      <td>1.000000</td>\n",
       "      <td>1.000000</td>\n",
       "      <td>8.000000</td>\n",
       "      <td>1.000000</td>\n",
       "      <td>2.678300e+02</td>\n",
       "    </tr>\n",
       "    <tr>\n",
       "      <th>25%</th>\n",
       "      <td>1100.000000</td>\n",
       "      <td>2.000000</td>\n",
       "      <td>50.000000</td>\n",
       "      <td>2.000000</td>\n",
       "      <td>4.267700e+03</td>\n",
       "    </tr>\n",
       "    <tr>\n",
       "      <th>50%</th>\n",
       "      <td>1275.000000</td>\n",
       "      <td>2.000000</td>\n",
       "      <td>71.850000</td>\n",
       "      <td>3.000000</td>\n",
       "      <td>5.438335e+03</td>\n",
       "    </tr>\n",
       "    <tr>\n",
       "      <th>75%</th>\n",
       "      <td>1672.000000</td>\n",
       "      <td>3.000000</td>\n",
       "      <td>120.000000</td>\n",
       "      <td>3.000000</td>\n",
       "      <td>7.317070e+03</td>\n",
       "    </tr>\n",
       "    <tr>\n",
       "      <th>max</th>\n",
       "      <td>52272.000000</td>\n",
       "      <td>40.000000</td>\n",
       "      <td>3600.000000</td>\n",
       "      <td>43.000000</td>\n",
       "      <td>1.200000e+07</td>\n",
       "    </tr>\n",
       "  </tbody>\n",
       "</table>\n",
       "</div>"
      ],
      "text/plain": [
       "         total_sqft          bath         price           bhk  price_per_sqft\n",
       "count  13200.000000  13200.000000  13200.000000  13200.000000    1.320000e+04\n",
       "mean    1555.302783      2.691136    112.276178      2.800833    7.920759e+03\n",
       "std     1237.323445      1.338915    149.175995      1.292843    1.067272e+05\n",
       "min        1.000000      1.000000      8.000000      1.000000    2.678300e+02\n",
       "25%     1100.000000      2.000000     50.000000      2.000000    4.267700e+03\n",
       "50%     1275.000000      2.000000     71.850000      3.000000    5.438335e+03\n",
       "75%     1672.000000      3.000000    120.000000      3.000000    7.317070e+03\n",
       "max    52272.000000     40.000000   3600.000000     43.000000    1.200000e+07"
      ]
     },
     "execution_count": 700,
     "metadata": {},
     "output_type": "execute_result"
    }
   ],
   "source": [
    "df5.describe()"
   ]
  },
  {
   "cell_type": "markdown",
   "id": "8fae303b-471a-4428-8dc9-536889a6d4fa",
   "metadata": {},
   "source": [
    "**Total sqft per bedroom size**"
   ]
  },
  {
   "cell_type": "markdown",
   "id": "ae6aaa8c-2c5a-4769-a0ed-033783713f36",
   "metadata": {},
   "source": [
    "Usually , total sqft per bedroom is around 300 . So , considering that, I am keeping a threshold of 300 total sqft per bedroom."
   ]
  },
  {
   "cell_type": "code",
   "execution_count": 701,
   "id": "eff521b5-a728-4b04-bb56-74c2b059d672",
   "metadata": {},
   "outputs": [
    {
     "data": {
      "text/html": [
       "<div>\n",
       "<style scoped>\n",
       "    .dataframe tbody tr th:only-of-type {\n",
       "        vertical-align: middle;\n",
       "    }\n",
       "\n",
       "    .dataframe tbody tr th {\n",
       "        vertical-align: top;\n",
       "    }\n",
       "\n",
       "    .dataframe thead th {\n",
       "        text-align: right;\n",
       "    }\n",
       "</style>\n",
       "<table border=\"1\" class=\"dataframe\">\n",
       "  <thead>\n",
       "    <tr style=\"text-align: right;\">\n",
       "      <th></th>\n",
       "      <th>location</th>\n",
       "      <th>total_sqft</th>\n",
       "      <th>bath</th>\n",
       "      <th>price</th>\n",
       "      <th>bhk</th>\n",
       "      <th>price_per_sqft</th>\n",
       "    </tr>\n",
       "  </thead>\n",
       "  <tbody>\n",
       "    <tr>\n",
       "      <th>9</th>\n",
       "      <td>Gandhi Bazar</td>\n",
       "      <td>1020.0</td>\n",
       "      <td>6.0</td>\n",
       "      <td>370.0</td>\n",
       "      <td>6</td>\n",
       "      <td>36274.51</td>\n",
       "    </tr>\n",
       "    <tr>\n",
       "      <th>45</th>\n",
       "      <td>HSR Layout</td>\n",
       "      <td>600.0</td>\n",
       "      <td>9.0</td>\n",
       "      <td>200.0</td>\n",
       "      <td>8</td>\n",
       "      <td>33333.33</td>\n",
       "    </tr>\n",
       "    <tr>\n",
       "      <th>58</th>\n",
       "      <td>Murugeshpalya</td>\n",
       "      <td>1407.0</td>\n",
       "      <td>4.0</td>\n",
       "      <td>150.0</td>\n",
       "      <td>6</td>\n",
       "      <td>10660.98</td>\n",
       "    </tr>\n",
       "    <tr>\n",
       "      <th>68</th>\n",
       "      <td>Devarachikkanahalli</td>\n",
       "      <td>1350.0</td>\n",
       "      <td>7.0</td>\n",
       "      <td>85.0</td>\n",
       "      <td>8</td>\n",
       "      <td>6296.30</td>\n",
       "    </tr>\n",
       "    <tr>\n",
       "      <th>70</th>\n",
       "      <td>Double Road</td>\n",
       "      <td>500.0</td>\n",
       "      <td>3.0</td>\n",
       "      <td>100.0</td>\n",
       "      <td>3</td>\n",
       "      <td>20000.00</td>\n",
       "    </tr>\n",
       "    <tr>\n",
       "      <th>78</th>\n",
       "      <td>Kaval Byrasandra</td>\n",
       "      <td>460.0</td>\n",
       "      <td>1.0</td>\n",
       "      <td>22.0</td>\n",
       "      <td>2</td>\n",
       "      <td>4782.61</td>\n",
       "    </tr>\n",
       "    <tr>\n",
       "      <th>89</th>\n",
       "      <td>Rajaji Nagar</td>\n",
       "      <td>710.0</td>\n",
       "      <td>6.0</td>\n",
       "      <td>160.0</td>\n",
       "      <td>6</td>\n",
       "      <td>22535.21</td>\n",
       "    </tr>\n",
       "    <tr>\n",
       "      <th>119</th>\n",
       "      <td>Hennur Road</td>\n",
       "      <td>276.0</td>\n",
       "      <td>3.0</td>\n",
       "      <td>23.0</td>\n",
       "      <td>2</td>\n",
       "      <td>8333.33</td>\n",
       "    </tr>\n",
       "    <tr>\n",
       "      <th>129</th>\n",
       "      <td>Vishwapriya Layout</td>\n",
       "      <td>950.0</td>\n",
       "      <td>7.0</td>\n",
       "      <td>115.0</td>\n",
       "      <td>7</td>\n",
       "      <td>12105.26</td>\n",
       "    </tr>\n",
       "    <tr>\n",
       "      <th>149</th>\n",
       "      <td>Dinnur</td>\n",
       "      <td>1034.0</td>\n",
       "      <td>5.0</td>\n",
       "      <td>185.0</td>\n",
       "      <td>6</td>\n",
       "      <td>17891.68</td>\n",
       "    </tr>\n",
       "  </tbody>\n",
       "</table>\n",
       "</div>"
      ],
      "text/plain": [
       "                location  total_sqft  bath  price  bhk  price_per_sqft\n",
       "9           Gandhi Bazar      1020.0   6.0  370.0    6        36274.51\n",
       "45            HSR Layout       600.0   9.0  200.0    8        33333.33\n",
       "58         Murugeshpalya      1407.0   4.0  150.0    6        10660.98\n",
       "68   Devarachikkanahalli      1350.0   7.0   85.0    8         6296.30\n",
       "70           Double Road       500.0   3.0  100.0    3        20000.00\n",
       "78      Kaval Byrasandra       460.0   1.0   22.0    2         4782.61\n",
       "89          Rajaji Nagar       710.0   6.0  160.0    6        22535.21\n",
       "119          Hennur Road       276.0   3.0   23.0    2         8333.33\n",
       "129   Vishwapriya Layout       950.0   7.0  115.0    7        12105.26\n",
       "149               Dinnur      1034.0   5.0  185.0    6        17891.68"
      ]
     },
     "execution_count": 701,
     "metadata": {},
     "output_type": "execute_result"
    }
   ],
   "source": [
    "df5[df5[\"total_sqft\"]/df5[\"bhk\"]<300].head(10)"
   ]
  },
  {
   "cell_type": "markdown",
   "id": "23914e97-d7c5-4d78-b0a0-18ca28f4ae82",
   "metadata": {},
   "source": [
    "We can clearly sew few datas which are unrealistic for eg : 6BHK with 1020total sqft and 1407total sqft ; 8BHK in 600total sqft.\n",
    "so , removing them from the dataset."
   ]
  },
  {
   "cell_type": "code",
   "execution_count": 702,
   "id": "217e38db-3a7f-4d27-b292-f656c7dda6ba",
   "metadata": {},
   "outputs": [
    {
     "data": {
      "text/plain": [
       "(12456, 6)"
      ]
     },
     "execution_count": 702,
     "metadata": {},
     "output_type": "execute_result"
    }
   ],
   "source": [
    "df6 = df5[~(df5[\"total_sqft\"]/df5[\"bhk\"]<300)]\n",
    "df6.shape"
   ]
  },
  {
   "cell_type": "markdown",
   "id": "285dc1aa-55fb-4b20-a396-c5a8ea421f85",
   "metadata": {},
   "source": [
    "**Unrealistic bathroom counts per apartment**"
   ]
  },
  {
   "cell_type": "markdown",
   "id": "ced166ae-32e3-41dc-bd59-122a4c7aa748",
   "metadata": {},
   "source": [
    "Some data have unusual numbers of bathroom per house. \n",
    "If we consider a house with 3 bedrooms , we know that each bedroom would have a bathroom.\n",
    "Even if we assume a guest bathroom in addition to the bathrooms in the bedrooms;\n",
    "A practical scenario would be ,\n",
    "The no.of bathrooms in a house = The number of bedrooms it has + 1 extra bathroom."
   ]
  },
  {
   "cell_type": "code",
   "execution_count": 703,
   "id": "0ce9d577-e8e7-4949-b3d0-55f82ae3a6fe",
   "metadata": {},
   "outputs": [
    {
     "data": {
      "text/html": [
       "<div>\n",
       "<style scoped>\n",
       "    .dataframe tbody tr th:only-of-type {\n",
       "        vertical-align: middle;\n",
       "    }\n",
       "\n",
       "    .dataframe tbody tr th {\n",
       "        vertical-align: top;\n",
       "    }\n",
       "\n",
       "    .dataframe thead th {\n",
       "        text-align: right;\n",
       "    }\n",
       "</style>\n",
       "<table border=\"1\" class=\"dataframe\">\n",
       "  <thead>\n",
       "    <tr style=\"text-align: right;\">\n",
       "      <th></th>\n",
       "      <th>location</th>\n",
       "      <th>total_sqft</th>\n",
       "      <th>bath</th>\n",
       "      <th>price</th>\n",
       "      <th>bhk</th>\n",
       "      <th>price_per_sqft</th>\n",
       "    </tr>\n",
       "  </thead>\n",
       "  <tbody>\n",
       "    <tr>\n",
       "      <th>84</th>\n",
       "      <td>EPIP Zone</td>\n",
       "      <td>1499.0</td>\n",
       "      <td>5.0</td>\n",
       "      <td>102.0</td>\n",
       "      <td>3</td>\n",
       "      <td>6804.54</td>\n",
       "    </tr>\n",
       "    <tr>\n",
       "      <th>209</th>\n",
       "      <td>Padmanabhanagar</td>\n",
       "      <td>1736.0</td>\n",
       "      <td>6.0</td>\n",
       "      <td>190.0</td>\n",
       "      <td>4</td>\n",
       "      <td>10944.70</td>\n",
       "    </tr>\n",
       "    <tr>\n",
       "      <th>337</th>\n",
       "      <td>Thigalarapalya</td>\n",
       "      <td>3122.0</td>\n",
       "      <td>6.0</td>\n",
       "      <td>230.0</td>\n",
       "      <td>4</td>\n",
       "      <td>7367.07</td>\n",
       "    </tr>\n",
       "    <tr>\n",
       "      <th>490</th>\n",
       "      <td>Old Madras Road</td>\n",
       "      <td>4500.0</td>\n",
       "      <td>7.0</td>\n",
       "      <td>337.0</td>\n",
       "      <td>5</td>\n",
       "      <td>7488.89</td>\n",
       "    </tr>\n",
       "    <tr>\n",
       "      <th>524</th>\n",
       "      <td>Jakkur</td>\n",
       "      <td>5230.0</td>\n",
       "      <td>6.0</td>\n",
       "      <td>465.0</td>\n",
       "      <td>4</td>\n",
       "      <td>8891.01</td>\n",
       "    </tr>\n",
       "    <tr>\n",
       "      <th>...</th>\n",
       "      <td>...</td>\n",
       "      <td>...</td>\n",
       "      <td>...</td>\n",
       "      <td>...</td>\n",
       "      <td>...</td>\n",
       "      <td>...</td>\n",
       "    </tr>\n",
       "    <tr>\n",
       "      <th>13092</th>\n",
       "      <td>Hebbal</td>\n",
       "      <td>4000.0</td>\n",
       "      <td>6.0</td>\n",
       "      <td>440.0</td>\n",
       "      <td>4</td>\n",
       "      <td>11000.00</td>\n",
       "    </tr>\n",
       "    <tr>\n",
       "      <th>13095</th>\n",
       "      <td>Sathya Sai Layout</td>\n",
       "      <td>6652.0</td>\n",
       "      <td>6.0</td>\n",
       "      <td>660.0</td>\n",
       "      <td>4</td>\n",
       "      <td>9921.83</td>\n",
       "    </tr>\n",
       "    <tr>\n",
       "      <th>13119</th>\n",
       "      <td>Sathya Sai Layout</td>\n",
       "      <td>6688.0</td>\n",
       "      <td>6.0</td>\n",
       "      <td>700.0</td>\n",
       "      <td>4</td>\n",
       "      <td>10466.51</td>\n",
       "    </tr>\n",
       "    <tr>\n",
       "      <th>13180</th>\n",
       "      <td>Sarakki Nagar</td>\n",
       "      <td>3124.0</td>\n",
       "      <td>6.0</td>\n",
       "      <td>349.0</td>\n",
       "      <td>4</td>\n",
       "      <td>11171.57</td>\n",
       "    </tr>\n",
       "    <tr>\n",
       "      <th>13208</th>\n",
       "      <td>Hebbal</td>\n",
       "      <td>4000.0</td>\n",
       "      <td>6.0</td>\n",
       "      <td>370.0</td>\n",
       "      <td>4</td>\n",
       "      <td>9250.00</td>\n",
       "    </tr>\n",
       "  </tbody>\n",
       "</table>\n",
       "<p>153 rows × 6 columns</p>\n",
       "</div>"
      ],
      "text/plain": [
       "                location  total_sqft  bath  price  bhk  price_per_sqft\n",
       "84             EPIP Zone      1499.0   5.0  102.0    3         6804.54\n",
       "209      Padmanabhanagar      1736.0   6.0  190.0    4        10944.70\n",
       "337       Thigalarapalya      3122.0   6.0  230.0    4         7367.07\n",
       "490      Old Madras Road      4500.0   7.0  337.0    5         7488.89\n",
       "524               Jakkur      5230.0   6.0  465.0    4         8891.01\n",
       "...                  ...         ...   ...    ...  ...             ...\n",
       "13092             Hebbal      4000.0   6.0  440.0    4        11000.00\n",
       "13095  Sathya Sai Layout      6652.0   6.0  660.0    4         9921.83\n",
       "13119  Sathya Sai Layout      6688.0   6.0  700.0    4        10466.51\n",
       "13180      Sarakki Nagar      3124.0   6.0  349.0    4        11171.57\n",
       "13208             Hebbal      4000.0   6.0  370.0    4         9250.00\n",
       "\n",
       "[153 rows x 6 columns]"
      ]
     },
     "execution_count": 703,
     "metadata": {},
     "output_type": "execute_result"
    }
   ],
   "source": [
    "df6[(df6.bath > df6.bhk+1)]"
   ]
  },
  {
   "cell_type": "markdown",
   "id": "6d466d27-60f9-415e-8f31-cb27c31843e7",
   "metadata": {},
   "source": [
    "So lets remove the data which says that a house has more bathrooms than the number of bedrooms it has + 1"
   ]
  },
  {
   "cell_type": "code",
   "execution_count": 704,
   "id": "ae5ebcf7-ef19-4853-a80e-6f939dce9af2",
   "metadata": {},
   "outputs": [
    {
     "data": {
      "text/html": [
       "<div>\n",
       "<style scoped>\n",
       "    .dataframe tbody tr th:only-of-type {\n",
       "        vertical-align: middle;\n",
       "    }\n",
       "\n",
       "    .dataframe tbody tr th {\n",
       "        vertical-align: top;\n",
       "    }\n",
       "\n",
       "    .dataframe thead th {\n",
       "        text-align: right;\n",
       "    }\n",
       "</style>\n",
       "<table border=\"1\" class=\"dataframe\">\n",
       "  <thead>\n",
       "    <tr style=\"text-align: right;\">\n",
       "      <th></th>\n",
       "      <th>total_sqft</th>\n",
       "      <th>bath</th>\n",
       "      <th>price</th>\n",
       "      <th>bhk</th>\n",
       "      <th>price_per_sqft</th>\n",
       "    </tr>\n",
       "  </thead>\n",
       "  <tbody>\n",
       "    <tr>\n",
       "      <th>count</th>\n",
       "      <td>12303.000000</td>\n",
       "      <td>12303.000000</td>\n",
       "      <td>12303.000000</td>\n",
       "      <td>12303.000000</td>\n",
       "      <td>12303.000000</td>\n",
       "    </tr>\n",
       "    <tr>\n",
       "      <th>mean</th>\n",
       "      <td>1565.187910</td>\n",
       "      <td>2.517922</td>\n",
       "      <td>107.215860</td>\n",
       "      <td>2.631147</td>\n",
       "      <td>6246.906946</td>\n",
       "    </tr>\n",
       "    <tr>\n",
       "      <th>std</th>\n",
       "      <td>1232.948436</td>\n",
       "      <td>0.996490</td>\n",
       "      <td>138.612897</td>\n",
       "      <td>0.958671</td>\n",
       "      <td>4062.126459</td>\n",
       "    </tr>\n",
       "    <tr>\n",
       "      <th>min</th>\n",
       "      <td>300.000000</td>\n",
       "      <td>1.000000</td>\n",
       "      <td>9.000000</td>\n",
       "      <td>1.000000</td>\n",
       "      <td>267.830000</td>\n",
       "    </tr>\n",
       "    <tr>\n",
       "      <th>25%</th>\n",
       "      <td>1113.000000</td>\n",
       "      <td>2.000000</td>\n",
       "      <td>49.000000</td>\n",
       "      <td>2.000000</td>\n",
       "      <td>4200.060000</td>\n",
       "    </tr>\n",
       "    <tr>\n",
       "      <th>50%</th>\n",
       "      <td>1297.000000</td>\n",
       "      <td>2.000000</td>\n",
       "      <td>69.000000</td>\n",
       "      <td>3.000000</td>\n",
       "      <td>5272.730000</td>\n",
       "    </tr>\n",
       "    <tr>\n",
       "      <th>75%</th>\n",
       "      <td>1684.000000</td>\n",
       "      <td>3.000000</td>\n",
       "      <td>112.000000</td>\n",
       "      <td>3.000000</td>\n",
       "      <td>6860.375000</td>\n",
       "    </tr>\n",
       "    <tr>\n",
       "      <th>max</th>\n",
       "      <td>52272.000000</td>\n",
       "      <td>16.000000</td>\n",
       "      <td>2912.000000</td>\n",
       "      <td>16.000000</td>\n",
       "      <td>176470.590000</td>\n",
       "    </tr>\n",
       "  </tbody>\n",
       "</table>\n",
       "</div>"
      ],
      "text/plain": [
       "         total_sqft          bath         price           bhk  price_per_sqft\n",
       "count  12303.000000  12303.000000  12303.000000  12303.000000    12303.000000\n",
       "mean    1565.187910      2.517922    107.215860      2.631147     6246.906946\n",
       "std     1232.948436      0.996490    138.612897      0.958671     4062.126459\n",
       "min      300.000000      1.000000      9.000000      1.000000      267.830000\n",
       "25%     1113.000000      2.000000     49.000000      2.000000     4200.060000\n",
       "50%     1297.000000      2.000000     69.000000      3.000000     5272.730000\n",
       "75%     1684.000000      3.000000    112.000000      3.000000     6860.375000\n",
       "max    52272.000000     16.000000   2912.000000     16.000000   176470.590000"
      ]
     },
     "execution_count": 704,
     "metadata": {},
     "output_type": "execute_result"
    }
   ],
   "source": [
    "df7 = df6[(df6.bath <= df6.bhk+1)]\n",
    "df7.describe()"
   ]
  },
  {
   "cell_type": "markdown",
   "id": "35beee95-28c4-4dcf-8d18-34395ba3dd92",
   "metadata": {},
   "source": [
    "**Remove Extreme Outliers from price_per_sqft**"
   ]
  },
  {
   "cell_type": "code",
   "execution_count": 705,
   "id": "6dac66d6-94b7-4bac-91de-fc3a751bdf43",
   "metadata": {},
   "outputs": [
    {
     "data": {
      "image/png": "[encoded data removed]",
      "text/plain": [
       "<Figure size 1000x500 with 1 Axes>"
      ]
     },
     "metadata": {},
     "output_type": "display_data"
    }
   ],
   "source": [
    "plt.figure(figsize=(10,5))\n",
    "sns.histplot(df7.price_per_sqft)\n",
    "plt.title(\"Distribution of Price Per Sqft\")\n",
    "plt.show()"
   ]
  },
  {
   "cell_type": "markdown",
   "id": "f4e4cc88-95f5-4f6f-b0c5-f83c7934306a",
   "metadata": {},
   "source": [
    "price_per_sqft depends on the location, so ,lets compare houses with other houses in the same location and remove outliers which are way off from the local average."
   ]
  },
  {
   "cell_type": "code",
   "execution_count": 706,
   "id": "2665ba96-f5fe-47fc-957b-cb2593c3f073",
   "metadata": {},
   "outputs": [
    {
     "data": {
      "text/plain": [
       "(9175, 6)"
      ]
     },
     "execution_count": 706,
     "metadata": {},
     "output_type": "execute_result"
    }
   ],
   "source": [
    "def remove_pps_outliers(df):\n",
    "    df_out = pd.DataFrame()\n",
    "    for key, subdf in df.groupby('location'):\n",
    "        m = np.mean(subdf.price_per_sqft)\n",
    "        st = np.std(subdf.price_per_sqft)\n",
    "        reduced_df = subdf[(subdf.price_per_sqft>(m-st)) & (subdf.price_per_sqft<=(m+st))]\n",
    "        df_out = pd.concat([df_out,reduced_df],ignore_index=True)\n",
    "    return df_out\n",
    "df8 = remove_pps_outliers(df7)\n",
    "df8.shape"
   ]
  },
  {
   "cell_type": "code",
   "execution_count": 707,
   "id": "f86621c5-2d33-49d5-bec6-3400a6748e30",
   "metadata": {},
   "outputs": [
    {
     "data": {
      "image/png": "[encoded data removed]",
      "text/plain": [
       "<Figure size 1000x600 with 1 Axes>"
      ]
     },
     "metadata": {},
     "output_type": "display_data"
    }
   ],
   "source": [
    "def plot_scatter_chart(df,location):\n",
    "    bhk2 = df[(df.location==location) & (df.bhk==2)]\n",
    "    bhk3 = df[(df.location==location) & (df.bhk==3)]\n",
    "    matplotlib.rcParams['figure.figsize'] = (10,6)\n",
    "    plt.scatter(bhk2.total_sqft,bhk2.price,color='blue',label='2 BHK', s=40)\n",
    "    plt.scatter(bhk3.total_sqft,bhk3.price,marker='+', color='green',label='3 BHK', s=40)\n",
    "    plt.xlabel(\"Total Square Feet Area\")\n",
    "    plt.ylabel(\"Price (Lakh Indian Rupees)\")\n",
    "    plt.title(location)\n",
    "    plt.legend()\n",
    "    \n",
    "plot_scatter_chart(df8,\"Rajaji Nagar\")"
   ]
  },
  {
   "cell_type": "code",
   "execution_count": 708,
   "id": "6a29181a-9160-41a4-8773-43e1921a392c",
   "metadata": {},
   "outputs": [
    {
     "data": {
      "image/png": "[encoded data removed]",
      "text/plain": [
       "<Figure size 1000x600 with 1 Axes>"
      ]
     },
     "metadata": {},
     "output_type": "display_data"
    }
   ],
   "source": [
    "plot_scatter_chart(df8,\"Whitefield\")"
   ]
  },
  {
   "cell_type": "markdown",
   "id": "e7981289",
   "metadata": {},
   "source": [
    "**Removing extreme outliers from price**"
   ]
  },
  {
   "cell_type": "code",
   "execution_count": 709,
   "id": "a7e714d2",
   "metadata": {},
   "outputs": [
    {
     "name": "stdout",
     "output_type": "stream",
     "text": [
      "Cleaned (price) data shape: (6551, 6)\n",
      "Outliers (price) shape: (2624, 6)\n"
     ]
    }
   ],
   "source": [
    "def remove_bhk_price_anomalies1(df):\n",
    "    df = df.copy()\n",
    "    \n",
    "    # Round total_sqft to nearest 100 for grouping\n",
    "    df['rounded_sqft'] = df['total_sqft'].apply(lambda x: round(x / 400) * 400)\n",
    "\n",
    "    outlier_indices = []\n",
    "\n",
    "    # First: Find all groups with less than 3 records and mark them as outliers\n",
    "    group_sizes = df.groupby(['location', 'rounded_sqft', 'bhk']).size()\n",
    "    small_groups = group_sizes[group_sizes < 3]\n",
    "\n",
    "    for (location, sqft, bhk), size in small_groups.items():\n",
    "        # Get indices of all houses in this small group and mark as outliers\n",
    "        indices = df[(df['location'] == location) & \n",
    "                     (df['rounded_sqft'] == sqft) & \n",
    "                     (df['bhk'] == bhk)].index.tolist()\n",
    "        outlier_indices.extend(indices)\n",
    "\n",
    "    # Now remove these small groups from df before price anomaly detection\n",
    "    df_filtered = df.drop(index=outlier_indices)\n",
    "\n",
    "    # Group by location and rounded total_sqft\n",
    "    grouped = df_filtered.groupby(['location', 'rounded_sqft'])\n",
    "\n",
    "    for (location, sqft), group in grouped:\n",
    "        bhk_groups = group.groupby('bhk')\n",
    "        bhk_mean_price = {}\n",
    "\n",
    "        # Calculate mean price only for BHK groups with at least 3 records (already ensured by filtering)\n",
    "        for bhk, bhk_df in bhk_groups:\n",
    "            bhk_mean_price[bhk] = bhk_df['price'].mean()\n",
    "\n",
    "        # Compare prices: higher BHK should not be cheaper than lower BHK average\n",
    "        for bhk, bhk_df in bhk_groups:\n",
    "            if (bhk - 1) in bhk_mean_price:\n",
    "                mean_lower_bhk_price = bhk_mean_price[bhk - 1]\n",
    "                for idx, row in bhk_df.iterrows():\n",
    "                    if row['price'] < mean_lower_bhk_price:\n",
    "                        outlier_indices.append(idx)\n",
    "\n",
    "    # Separate outliers and cleaned data\n",
    "    df_outliers = df.loc[outlier_indices].drop(columns='rounded_sqft')\n",
    "    df_cleaned = df.drop(index=outlier_indices).drop(columns='rounded_sqft')\n",
    "\n",
    "    return df_cleaned, df_outliers\n",
    "df9, df_outliers = remove_bhk_price_anomalies1(df8)\n",
    "print(f\"Cleaned (price) data shape: {df9.shape}\")\n",
    "print(f\"Outliers (price) shape: {df_outliers.shape}\")"
   ]
  },
  {
   "cell_type": "code",
   "execution_count": 710,
   "id": "4beec7a3",
   "metadata": {},
   "outputs": [
    {
     "data": {
      "image/png": "[encoded data removed]",
      "text/plain": [
       "<Figure size 1000x600 with 1 Axes>"
      ]
     },
     "metadata": {},
     "output_type": "display_data"
    }
   ],
   "source": [
    "plot_scatter_chart(df9,\"Whitefield\")\n"
   ]
  },
  {
   "cell_type": "markdown",
   "id": "6a656121-917b-4f6b-b14a-b93f8bd4d85c",
   "metadata": {},
   "source": [
    "Now that , 'price_per_sqft' was used to remove the outlier,it can be dropped to model the dataset"
   ]
  },
  {
   "cell_type": "code",
   "execution_count": 711,
   "id": "5e24f574-e396-4d69-b527-2ffd9f18b256",
   "metadata": {},
   "outputs": [
    {
     "data": {
      "text/plain": [
       "(6551, 5)"
      ]
     },
     "execution_count": 711,
     "metadata": {},
     "output_type": "execute_result"
    }
   ],
   "source": [
    "df10 = df9.drop(columns='price_per_sqft', axis=1)\n",
    "df10.shape"
   ]
  },
  {
   "cell_type": "markdown",
   "id": "0e2daef2",
   "metadata": {},
   "source": [
    "**Removing extreme values from total_sqft**"
   ]
  },
  {
   "cell_type": "code",
   "execution_count": 712,
   "id": "f30f8408",
   "metadata": {},
   "outputs": [
    {
     "data": {
      "image/png": "[encoded data removed]",
      "text/plain": [
       "<Figure size 1000x500 with 1 Axes>"
      ]
     },
     "metadata": {},
     "output_type": "display_data"
    }
   ],
   "source": [
    "plt.figure(figsize=(10,5))\n",
    "sns.histplot(df10.total_sqft)\n",
    "plt.title(\"Distribution of Total Sqft\")\n",
    "plt.show()"
   ]
  },
  {
   "cell_type": "code",
   "execution_count": 763,
   "id": "6ca79438",
   "metadata": {},
   "outputs": [
    {
     "data": {
      "text/html": [
       "<div>\n",
       "<style scoped>\n",
       "    .dataframe tbody tr th:only-of-type {\n",
       "        vertical-align: middle;\n",
       "    }\n",
       "\n",
       "    .dataframe tbody tr th {\n",
       "        vertical-align: top;\n",
       "    }\n",
       "\n",
       "    .dataframe thead th {\n",
       "        text-align: right;\n",
       "    }\n",
       "</style>\n",
       "<table border=\"1\" class=\"dataframe\">\n",
       "  <thead>\n",
       "    <tr style=\"text-align: right;\">\n",
       "      <th></th>\n",
       "      <th>total_sqft</th>\n",
       "      <th>bath</th>\n",
       "      <th>price</th>\n",
       "      <th>bhk</th>\n",
       "    </tr>\n",
       "  </thead>\n",
       "  <tbody>\n",
       "    <tr>\n",
       "      <th>count</th>\n",
       "      <td>6530.000000</td>\n",
       "      <td>6530.000000</td>\n",
       "      <td>6530.000000</td>\n",
       "      <td>6530.000000</td>\n",
       "    </tr>\n",
       "    <tr>\n",
       "      <th>mean</th>\n",
       "      <td>1348.057013</td>\n",
       "      <td>2.294640</td>\n",
       "      <td>76.883144</td>\n",
       "      <td>2.388668</td>\n",
       "    </tr>\n",
       "    <tr>\n",
       "      <th>std</th>\n",
       "      <td>431.784565</td>\n",
       "      <td>0.658499</td>\n",
       "      <td>52.573873</td>\n",
       "      <td>0.604973</td>\n",
       "    </tr>\n",
       "    <tr>\n",
       "      <th>min</th>\n",
       "      <td>350.000000</td>\n",
       "      <td>1.000000</td>\n",
       "      <td>10.000000</td>\n",
       "      <td>1.000000</td>\n",
       "    </tr>\n",
       "    <tr>\n",
       "      <th>25%</th>\n",
       "      <td>1100.000000</td>\n",
       "      <td>2.000000</td>\n",
       "      <td>47.250000</td>\n",
       "      <td>2.000000</td>\n",
       "    </tr>\n",
       "    <tr>\n",
       "      <th>50%</th>\n",
       "      <td>1243.000000</td>\n",
       "      <td>2.000000</td>\n",
       "      <td>64.130000</td>\n",
       "      <td>2.000000</td>\n",
       "    </tr>\n",
       "    <tr>\n",
       "      <th>75%</th>\n",
       "      <td>1540.000000</td>\n",
       "      <td>3.000000</td>\n",
       "      <td>89.000000</td>\n",
       "      <td>3.000000</td>\n",
       "    </tr>\n",
       "    <tr>\n",
       "      <th>max</th>\n",
       "      <td>3913.000000</td>\n",
       "      <td>5.000000</td>\n",
       "      <td>864.000000</td>\n",
       "      <td>4.000000</td>\n",
       "    </tr>\n",
       "  </tbody>\n",
       "</table>\n",
       "</div>"
      ],
      "text/plain": [
       "        total_sqft         bath        price          bhk\n",
       "count  6530.000000  6530.000000  6530.000000  6530.000000\n",
       "mean   1348.057013     2.294640    76.883144     2.388668\n",
       "std     431.784565     0.658499    52.573873     0.604973\n",
       "min     350.000000     1.000000    10.000000     1.000000\n",
       "25%    1100.000000     2.000000    47.250000     2.000000\n",
       "50%    1243.000000     2.000000    64.130000     2.000000\n",
       "75%    1540.000000     3.000000    89.000000     3.000000\n",
       "max    3913.000000     5.000000   864.000000     4.000000"
      ]
     },
     "execution_count": 763,
     "metadata": {},
     "output_type": "execute_result"
    }
   ],
   "source": [
    "df11 = df10[df10.total_sqft < df10.total_sqft.quantile(0.997)]\n",
    "df11.describe()"
   ]
  },
  {
   "cell_type": "markdown",
   "id": "2ac6b5a1",
   "metadata": {},
   "source": [
    "**Removing rare locations**"
   ]
  },
  {
   "cell_type": "code",
   "execution_count": 764,
   "id": "a34c9654",
   "metadata": {},
   "outputs": [
    {
     "name": "stdout",
     "output_type": "stream",
     "text": [
      "Number of unique locations : 291\n",
      "Number of locations with more than 5 data points : 196\n",
      "Number of locations with 5 or less than 5 data points : 95\n"
     ]
    },
    {
     "name": "stderr",
     "output_type": "stream",
     "text": [
      "/var/folders/vl/l17yt_jx1kdgs6w9y_b_wtjr0000gn/T/ipykernel_51089/948938618.py:8: SettingWithCopyWarning: \n",
      "A value is trying to be set on a copy of a slice from a DataFrame.\n",
      "Try using .loc[row_indexer,col_indexer] = value instead\n",
      "\n",
      "See the caveats in the documentation: https://pandas.pydata.org/pandas-docs/stable/user_guide/indexing.html#returning-a-view-versus-a-copy\n",
      "  df11[\"location\"] = df11[\"location\"].apply(lambda x: 'other' if x in location_stats_less_than_5 else x)\n"
     ]
    },
    {
     "data": {
      "text/plain": [
       "location\n",
       "Whitefield         380\n",
       "other              332\n",
       "Sarjapur  Road     260\n",
       "Electronic City    240\n",
       "Uttarahalli        158\n",
       "                  ... \n",
       "Banagiri Nagar       6\n",
       "Prithvi Layout       6\n",
       "Kenchenahalli        6\n",
       "Kodihalli            6\n",
       "Chamrajpet           6\n",
       "Name: count, Length: 197, dtype: int64"
      ]
     },
     "execution_count": 764,
     "metadata": {},
     "output_type": "execute_result"
    }
   ],
   "source": [
    "location_stats = df11[\"location\"].value_counts()\n",
    "print(f\"Number of unique locations : {len(location_stats)}\")\n",
    "print(f\"Number of locations with more than 5 data points : {len(location_stats[location_stats>5])}\")\n",
    "print(f\"Number of locations with 5 or less than 5 data points : {len(location_stats[location_stats<=5])}\")\n",
    "location_stats_less_than_5 = location_stats[location_stats <= 5]\n",
    "\n",
    "# Replace rare locations with \"other\"\n",
    "df11[\"location\"] = df11[\"location\"].apply(lambda x: 'other' if x in location_stats_less_than_5 else x)\n",
    "df11[\"location\"].value_counts()"
   ]
  },
  {
   "cell_type": "code",
   "execution_count": 765,
   "id": "ae523502",
   "metadata": {},
   "outputs": [
    {
     "data": {
      "text/html": [
       "<div>\n",
       "<style scoped>\n",
       "    .dataframe tbody tr th:only-of-type {\n",
       "        vertical-align: middle;\n",
       "    }\n",
       "\n",
       "    .dataframe tbody tr th {\n",
       "        vertical-align: top;\n",
       "    }\n",
       "\n",
       "    .dataframe thead th {\n",
       "        text-align: right;\n",
       "    }\n",
       "</style>\n",
       "<table border=\"1\" class=\"dataframe\">\n",
       "  <thead>\n",
       "    <tr style=\"text-align: right;\">\n",
       "      <th></th>\n",
       "      <th>total_sqft</th>\n",
       "      <th>bath</th>\n",
       "      <th>price</th>\n",
       "      <th>bhk</th>\n",
       "    </tr>\n",
       "  </thead>\n",
       "  <tbody>\n",
       "    <tr>\n",
       "      <th>count</th>\n",
       "      <td>6198.000000</td>\n",
       "      <td>6198.000000</td>\n",
       "      <td>6198.000000</td>\n",
       "      <td>6198.000000</td>\n",
       "    </tr>\n",
       "    <tr>\n",
       "      <th>mean</th>\n",
       "      <td>1350.131717</td>\n",
       "      <td>2.295257</td>\n",
       "      <td>76.787584</td>\n",
       "      <td>2.388512</td>\n",
       "    </tr>\n",
       "    <tr>\n",
       "      <th>std</th>\n",
       "      <td>435.525277</td>\n",
       "      <td>0.663447</td>\n",
       "      <td>52.342131</td>\n",
       "      <td>0.608485</td>\n",
       "    </tr>\n",
       "    <tr>\n",
       "      <th>min</th>\n",
       "      <td>350.000000</td>\n",
       "      <td>1.000000</td>\n",
       "      <td>10.000000</td>\n",
       "      <td>1.000000</td>\n",
       "    </tr>\n",
       "    <tr>\n",
       "      <th>25%</th>\n",
       "      <td>1100.000000</td>\n",
       "      <td>2.000000</td>\n",
       "      <td>47.000000</td>\n",
       "      <td>2.000000</td>\n",
       "    </tr>\n",
       "    <tr>\n",
       "      <th>50%</th>\n",
       "      <td>1243.000000</td>\n",
       "      <td>2.000000</td>\n",
       "      <td>65.000000</td>\n",
       "      <td>2.000000</td>\n",
       "    </tr>\n",
       "    <tr>\n",
       "      <th>75%</th>\n",
       "      <td>1549.000000</td>\n",
       "      <td>3.000000</td>\n",
       "      <td>89.820000</td>\n",
       "      <td>3.000000</td>\n",
       "    </tr>\n",
       "    <tr>\n",
       "      <th>max</th>\n",
       "      <td>3913.000000</td>\n",
       "      <td>5.000000</td>\n",
       "      <td>864.000000</td>\n",
       "      <td>4.000000</td>\n",
       "    </tr>\n",
       "  </tbody>\n",
       "</table>\n",
       "</div>"
      ],
      "text/plain": [
       "        total_sqft         bath        price          bhk\n",
       "count  6198.000000  6198.000000  6198.000000  6198.000000\n",
       "mean   1350.131717     2.295257    76.787584     2.388512\n",
       "std     435.525277     0.663447    52.342131     0.608485\n",
       "min     350.000000     1.000000    10.000000     1.000000\n",
       "25%    1100.000000     2.000000    47.000000     2.000000\n",
       "50%    1243.000000     2.000000    65.000000     2.000000\n",
       "75%    1549.000000     3.000000    89.820000     3.000000\n",
       "max    3913.000000     5.000000   864.000000     4.000000"
      ]
     },
     "execution_count": 765,
     "metadata": {},
     "output_type": "execute_result"
    }
   ],
   "source": [
    "df12 = df11[df11['location'].str.lower() != 'other']\n",
    "df12.describe()"
   ]
  },
  {
   "cell_type": "markdown",
   "id": "9e33fb94-6c1c-4611-84eb-64da9366c6f9",
   "metadata": {},
   "source": [
    "## **SMOOTHED MEAN ENCODING**"
   ]
  },
  {
   "cell_type": "code",
   "execution_count": 766,
   "id": "300598bf",
   "metadata": {},
   "outputs": [],
   "source": [
    "def smoothed_mean_encoding(train_df,col=\"location\",target=\"price\",m=5):\n",
    "    global_mean = train_df[target].mean()\n",
    "    agg = train_df.groupby(col)[target].agg(['mean', 'count']).reset_index()\n",
    "    # smoothed value\n",
    "    agg['smoothed'] = (agg['count'] * agg['mean'] + m * global_mean) / (agg['count'] + m)\n",
    "    # Map each category in df[column] to its smoothed value\n",
    "    smooth_map = dict(zip(agg[col], agg['smoothed']))\n",
    "    # Return encoded column and mapping\n",
    "    return train_df[col].map(smooth_map), smooth_map"
   ]
  },
  {
   "cell_type": "markdown",
   "id": "2d1cd5e7-f5bc-46ad-b1ef-76630c7677b4",
   "metadata": {},
   "source": [
    "## **MODEL BUILDING**"
   ]
  },
  {
   "cell_type": "code",
   "execution_count": 767,
   "id": "3077bf0b-e49b-41d1-9a4c-82e5b1eab43d",
   "metadata": {},
   "outputs": [],
   "source": [
    "X = df12.drop(columns = 'price' , axis=1)\n",
    "y = df12['price']"
   ]
  },
  {
   "cell_type": "code",
   "execution_count": 768,
   "id": "e5ea46a4-6229-4373-a4be-62a1d96cde33",
   "metadata": {},
   "outputs": [],
   "source": [
    "from sklearn.model_selection import train_test_split\n",
    "X_train,X_test,y_train,y_test = train_test_split(X,y,test_size=0.2,random_state=42)"
   ]
  },
  {
   "cell_type": "code",
   "execution_count": 769,
   "id": "590caec0",
   "metadata": {},
   "outputs": [],
   "source": [
    "#Apply smoothed encoding on training set\n",
    "X_train_enc, smooth_map = smoothed_mean_encoding(\n",
    "    pd.concat([X_train, y_train], axis=1), \n",
    "    col=\"location\", target=\"price\",  m=5)\n",
    "X_train = X_train.copy()\n",
    "X_train['location'] = X_train_enc"
   ]
  },
  {
   "cell_type": "code",
   "execution_count": 770,
   "id": "eeaffb75",
   "metadata": {},
   "outputs": [],
   "source": [
    "#Any new categories in test data not seen in training will get the global_mean value.\n",
    "\n",
    "global_mean = y_train.mean()\n",
    "\n",
    "X_test = X_test.copy()\n",
    "X_test['location'] = X_test['location'].map(smooth_map).fillna(global_mean)"
   ]
  },
  {
   "cell_type": "code",
   "execution_count": 771,
   "id": "dfe75684",
   "metadata": {},
   "outputs": [],
   "source": [
    "# -----------------------\n",
    "# Scaling for regression models\n",
    "# -----------------------\n",
    "from sklearn.preprocessing import StandardScaler\n",
    "X_train_scal = X_train.copy()\n",
    "X_test_scal = X_test.copy()\n",
    "\n",
    "numerical_cols = ['total_sqft', 'bath', 'bhk']\n",
    "scaler = StandardScaler()\n",
    "X_train_scal[numerical_cols] = scaler.fit_transform(X_train_scal[numerical_cols])\n",
    "X_test_scal[numerical_cols] = scaler.transform(X_test_scal[numerical_cols])"
   ]
  },
  {
   "cell_type": "code",
   "execution_count": 772,
   "id": "42ee2f6d",
   "metadata": {},
   "outputs": [],
   "source": [
    "# -----------------------\n",
    "# Log transforming 'price'\n",
    "# -----------------------\n",
    "\n",
    "y_train_log = np.log1p(y_train) "
   ]
  },
  {
   "cell_type": "code",
   "execution_count": 785,
   "id": "186b864c",
   "metadata": {},
   "outputs": [
    {
     "name": "stdout",
     "output_type": "stream",
     "text": [
      "\n",
      "--- Models without Scaling ---\n",
      "R² Score (Random Forest): 0.9002523769003935\n",
      "R² Score (XGBRegressor): 0.9097617528906967\n"
     ]
    }
   ],
   "source": [
    "# -----------------------\n",
    "# MODELS THAT NEED SCALING\n",
    "# -----------------------\n",
    "# print(\"\\n--- Models with Scaling ---\")\n",
    "# from sklearn.linear_model import LinearRegression,Ridge, Lasso, ElasticNet\n",
    "# from sklearn.svm import SVR\n",
    "# from sklearn.metrics import r2_score\n",
    "# lr = LinearRegression()\n",
    "# lr.fit(X_train_scal, y_train_log)\n",
    "# y_pred_log = lr.predict(X_test_scal)\n",
    "# y_pred = np.expm1(y_pred_log)\n",
    "# print(\"R² Score (Linear Regression):\", r2_score(y_test,y_pred))\n",
    "\n",
    "# ridge = Ridge(alpha=1.0)\n",
    "# ridge.fit(X_train_scal, y_train_log)\n",
    "# y_pred_log = ridge.predict(X_test_scal)\n",
    "# y_pred = np.expm1(y_pred_log)\n",
    "# print(\"R² Score (Ridge):\", r2_score(y_test,y_pred ))\n",
    "\n",
    "# lasso = Lasso(alpha=0.1, max_iter=10000)\n",
    "# lasso.fit(X_train_scal, y_train_log)\n",
    "# y_pred_log = lasso.predict(X_test_scal)\n",
    "# y_pred = np.expm1(y_pred_log)\n",
    "# print(\"R² Score (Lasso):\", r2_score(y_test,y_pred))\n",
    "\n",
    "# elastic = ElasticNet(alpha=0.1, l1_ratio=0.5, max_iter=10000)\n",
    "# elastic.fit(X_train_scal, y_train_log)\n",
    "# y_pred_log = elastic.predict(X_test_scal)\n",
    "# y_pred = np.expm1(y_pred_log)\n",
    "# print(\"R² Score (ElasticNet):\", r2_score(y_test,y_pred))\n",
    "\n",
    "# svr_rbf = SVR(kernel='rbf', C=100, epsilon=0.1)\n",
    "# svr_rbf.fit(X_train_scal, y_train_log)\n",
    "# y_pred_log = svr_rbf.predict(X_test_scal)\n",
    "# y_pred = np.expm1(y_pred_log)\n",
    "# print(\"R² Score (SVR - RBF):\",r2_score(y_test,y_pred))\n",
    "\n",
    "# -----------------------\n",
    "# TREE-BASED MODELS (No Scaling)\n",
    "# -----------------------\n",
    "from sklearn.ensemble import RandomForestRegressor\n",
    "print(\"\\n--- Models without Scaling ---\")\n",
    "rf_model = RandomForestRegressor(n_estimators=200, random_state=42)\n",
    "rf_model.fit(X_train, y_train_log)\n",
    "y_pred_log = rf_model.predict(X_test)\n",
    "y_pred = np.expm1(y_pred_log)\n",
    "print(\"R² Score (Random Forest):\", r2_score(y_test, y_pred))\n",
    "\n",
    "\n",
    "from xgboost import XGBRegressor\n",
    "xgb_model =XGBRegressor( objective='reg:squarederror',min_child_weight=1,\n",
    "    n_estimators=600, learning_rate=0.05,reg_lambda = 1,reg_alpha = 0,\n",
    "    max_depth=5, colsample_bytree=0.8,\n",
    "    subsample=1.0, random_state=42)\n",
    "xgb_model.fit(X_train, y_train_log)\n",
    "y_pred_log = xgb_model.predict(X_test)\n",
    "y_pred = np.expm1(y_pred_log)\n",
    "print(\"R² Score (XGBRegressor):\", r2_score(y_test,y_pred))"
   ]
  },
  {
   "cell_type": "markdown",
   "id": "08359202",
   "metadata": {},
   "source": [
    "## **Use RandomizedSearchCV**"
   ]
  },
  {
   "cell_type": "code",
   "execution_count": 786,
   "id": "73a14e03",
   "metadata": {},
   "outputs": [
    {
     "name": "stdout",
     "output_type": "stream",
     "text": [
      "Fitting 5 folds for each of 60 candidates, totalling 300 fits\n",
      "Best Params: {'subsample': 1.0, 'reg_lambda': 7, 'reg_alpha': 0, 'n_estimators': 500, 'min_child_weight': 1, 'max_depth': 6, 'learning_rate': 0.1, 'colsample_bytree': 1.0}\n",
      "Best CV MAE (log space): 0.12036349444467916\n"
     ]
    }
   ],
   "source": [
    "\n",
    "from sklearn.model_selection import RandomizedSearchCV\n",
    "from xgboost import XGBRegressor\n",
    "import numpy as np\n",
    "\n",
    "param_dist = {\n",
    "    'max_depth': [3, 4, 5, 6],\n",
    "    'learning_rate': [0.01, 0.05, 0.1],\n",
    "    'n_estimators': [200, 300, 400, 500, 600, 700],\n",
    "    'subsample': [0.7, 0.8, 0.9, 1.0],\n",
    "    'colsample_bytree': [0.7, 0.8, 0.9, 1.0],\n",
    "    'reg_lambda': [1, 7, 10, 50],\n",
    "    'reg_alpha': [0, 0.1, 1, 5],\n",
    "    'min_child_weight': [1, 5, 7]\n",
    "}\n",
    "\n",
    "xgb = XGBRegressor(\n",
    "    objective='reg:squarederror',\n",
    "    tree_method='hist',\n",
    "    random_state=42\n",
    ")\n",
    "\n",
    "# Log-transform y for training\n",
    "y_train_log = np.log1p(y_train)\n",
    "\n",
    "random_search = RandomizedSearchCV(\n",
    "    estimator=xgb,\n",
    "    param_distributions=param_dist,\n",
    "    n_iter=60,\n",
    "    scoring='neg_mean_absolute_error',\n",
    "    cv=5,\n",
    "    verbose=1,\n",
    "    random_state=42,\n",
    "    n_jobs=-1\n",
    ")\n",
    "\n",
    "random_search.fit(X_train, y_train_log)\n",
    "\n",
    "print(\"Best Params:\", random_search.best_params_)\n",
    "print(\"Best CV MAE (log space):\", -random_search.best_score_)\n",
    "\n"
   ]
  },
  {
   "cell_type": "markdown",
   "id": "762d672e-118e-4e13-9e16-a14fe2f73af4",
   "metadata": {},
   "source": [
    "## **Use K Fold cross validation to measure accuracy of our Random Forest Regression model**"
   ]
  },
  {
   "cell_type": "code",
   "execution_count": 787,
   "id": "f40f8366",
   "metadata": {},
   "outputs": [
    {
     "name": "stdout",
     "output_type": "stream",
     "text": [
      "\n",
      "Cross Validation Results:\n",
      "MAE per fold: [9.424661116846146, 9.03341279638967, 9.532891382401989, 9.549728229174793, 9.469373283878847]\n",
      "MSE per fold: [224.11314662667527, 221.9198611519974, 209.9743922449105, 219.33771678762196, 235.2223024785533]\n",
      "R² per fold: [0.9210998097351546, 0.9210318259463793, 0.9226946162089903, 0.9043412473681798, 0.9222380682190034]\n",
      "\n",
      "Average MAE: 9.402013361738288\n",
      "Average MSE: 222.11348385795168\n",
      "Average R²: 0.9182811134955415\n"
     ]
    }
   ],
   "source": [
    "from sklearn.model_selection import KFold\n",
    "from sklearn.metrics import mean_absolute_error, mean_squared_error, r2_score\n",
    "import numpy as np\n",
    "\n",
    "cv = KFold(n_splits=5, shuffle=True, random_state=0)\n",
    "mae_scores, mse_scores, r2_scores = [], [], []\n",
    "\n",
    "for train_idx, test_idx in cv.split(X, y):\n",
    "    X_train_cv, X_test_cv = X.iloc[train_idx].copy(), X.iloc[test_idx].copy()\n",
    "    y_train_cv, y_test_cv = y.iloc[train_idx], y.iloc[test_idx]\n",
    "\n",
    "    # Smoothed encoding\n",
    "    df_train_cv = pd.concat([X_train_cv, y_train_cv], axis=1)\n",
    "    X_train_cv['location'], smooth_map_cv = smoothed_mean_encoding(\n",
    "        df_train_cv, col=\"location\", target=\"price\", m=5\n",
    "    )\n",
    "    global_mean_cv = y_train_cv.mean()\n",
    "    X_test_cv['location'] = X_test_cv['location'].map(smooth_map_cv).fillna(global_mean_cv)\n",
    "\n",
    "    # Log transform the target\n",
    "    y_train_cv_log = np.log1p(y_train_cv)\n",
    "\n",
    "    # Model\n",
    "    model_cv = XGBRegressor(\n",
    "        objective='reg:squarederror',\n",
    "        min_child_weight=1,\n",
    "        n_estimators=600,\n",
    "        learning_rate=0.05,\n",
    "        reg_lambda=1,\n",
    "        reg_alpha=0,\n",
    "        max_depth=5,\n",
    "        colsample_bytree=0.8,\n",
    "        subsample=1.0,\n",
    "        random_state=42\n",
    "    )\n",
    "    \n",
    "    model_cv.fit(X_train_cv, y_train_cv_log)\n",
    "    y_pred_cv_log = model_cv.predict(X_test_cv)\n",
    "    y_pred_cv = np.expm1(y_pred_cv_log)  # inverse transform\n",
    "\n",
    "    mae_scores.append(mean_absolute_error(y_test_cv, y_pred_cv))\n",
    "    mse_scores.append(mean_squared_error(y_test_cv, y_pred_cv))\n",
    "    r2_scores.append(r2_score(y_test_cv, y_pred_cv))\n",
    "\n",
    "print(\"\\nCross Validation Results:\")\n",
    "print(\"MAE per fold:\", mae_scores)\n",
    "print(\"MSE per fold:\", mse_scores)\n",
    "print(\"R² per fold:\", r2_scores)\n",
    "print(\"\\nAverage MAE:\", np.mean(mae_scores))\n",
    "print(\"Average MSE:\", np.mean(mse_scores))\n",
    "print(\"Average R²:\", np.mean(r2_scores))\n"
   ]
  },
  {
   "cell_type": "code",
   "execution_count": 777,
   "id": "a5a50db7",
   "metadata": {},
   "outputs": [
    {
     "name": "stdout",
     "output_type": "stream",
     "text": [
      "Train MAE: 7.547126486248526\n",
      "Test  MAE: 9.459826844553792\n",
      "Train R² : 0.9544999673351876\n",
      "Test  R² : 0.9097617528906967\n"
     ]
    }
   ],
   "source": [
    "# CHECKING THE MODEL PERFORMANCE ON TRAIN AND TEST SETS FOR OVERFITTING\n",
    "train_pred_log = xgb_model.predict(X_train)    # predictions in log space\n",
    "test_pred_log  = xgb_model.predict(X_test)     # predictions in log space\n",
    "\n",
    "# Convert back to original price scale\n",
    "train_pred = np.expm1(train_pred_log)\n",
    "test_pred  = np.expm1(test_pred_log)\n",
    "\n",
    "\n",
    "from sklearn.metrics import mean_absolute_error, r2_score\n",
    "\n",
    "print(\"Train MAE:\", mean_absolute_error(y_train, train_pred))\n",
    "print(\"Test  MAE:\", mean_absolute_error(y_test, test_pred))\n",
    "print(\"Train R² :\", r2_score(y_train, train_pred))\n",
    "print(\"Test  R² :\", r2_score(y_test, test_pred))\n"
   ]
  },
  {
   "cell_type": "markdown",
   "id": "0f1fcde5-094e-49b6-8769-cdda8f803639",
   "metadata": {},
   "source": [
    "## **Test the Model**"
   ]
  },
  {
   "cell_type": "code",
   "execution_count": 778,
   "id": "0cbc1c1d",
   "metadata": {},
   "outputs": [
    {
     "data": {
      "text/plain": [
       "<Axes: xlabel='price', ylabel='Count'>"
      ]
     },
     "execution_count": 778,
     "metadata": {},
     "output_type": "execute_result"
    },
    {
     "data": {
      "image/png": "[encoded data removed]",
      "text/plain": [
       "<Figure size 1000x600 with 1 Axes>"
      ]
     },
     "metadata": {},
     "output_type": "display_data"
    }
   ],
   "source": [
    "plt.figure(figsize=(10, 6))\n",
    "\n",
    "# Plot histograms\n",
    "sns.histplot(y_test,color=\"red\")\n",
    "sns.histplot(test_pred,color=\"green\")"
   ]
  },
  {
   "cell_type": "markdown",
   "id": "8fe7af96-ae18-4ca2-9bdc-c1453922d96b",
   "metadata": {},
   "source": [
    "## **Export the model to a Pickle file**"
   ]
  },
  {
   "cell_type": "code",
   "execution_count": 779,
   "id": "4956daa4-ab96-4795-963b-348509017845",
   "metadata": {},
   "outputs": [],
   "source": [
    "# import pickle\n",
    "# with open('banglore_home_prices_model_xgb.pickle','wb') as f:\n",
    "#     pickle.dump(xgb_model,f)"
   ]
  },
  {
   "cell_type": "markdown",
   "id": "d997e2bb",
   "metadata": {},
   "source": [
    "## **Export the model to a Joblib file**"
   ]
  },
  {
   "cell_type": "code",
   "execution_count": 780,
   "id": "08e8f055",
   "metadata": {},
   "outputs": [],
   "source": [
    "# import joblib\n",
    "# joblib.dump(xgb_model, 'model.joblib')"
   ]
  },
  {
   "cell_type": "markdown",
   "id": "e819ef98-8016-4fd6-a7e6-ab7eb04940f8",
   "metadata": {},
   "source": [
    "## **Export location and column information to a file that will be useful later on in our prediction application**"
   ]
  },
  {
   "cell_type": "code",
   "execution_count": 781,
   "id": "17960047-1d90-4063-925f-6906fe8e778a",
   "metadata": {},
   "outputs": [],
   "source": [
    "# import json\n",
    "# columns = list(X_train.columns)\n",
    "# with open(\"columns.json\", \"w\") as f:\n",
    "#     json.dump(columns, f)"
   ]
  },
  {
   "cell_type": "markdown",
   "id": "631a90d1",
   "metadata": {},
   "source": [
    "## **Export scaler**"
   ]
  },
  {
   "cell_type": "code",
   "execution_count": 782,
   "id": "f18971ea",
   "metadata": {},
   "outputs": [],
   "source": [
    "# joblib.dump(scaler, 'scaler.joblib') "
   ]
  },
  {
   "cell_type": "markdown",
   "id": "21e1b547",
   "metadata": {},
   "source": [
    "## **Save smooth map and global mean**"
   ]
  },
  {
   "cell_type": "code",
   "execution_count": 783,
   "id": "444a05c5",
   "metadata": {},
   "outputs": [],
   "source": [
    "# with open(\"global_mean.json\", \"w\") as f:\n",
    "#     json.dump({\"global_mean\": float(global_mean)}, f)"
   ]
  },
  {
   "cell_type": "code",
   "execution_count": 784,
   "id": "85d2432e",
   "metadata": {},
   "outputs": [],
   "source": [
    "\n",
    "# smooth_map_dict = dict(smooth_map)\n",
    "# with open(\"smooth_map.json\", \"w\") as f:\n",
    "#     json.dump(smooth_map_dict, f)"
   ]
  }
 ],
 "metadata": {
  "kernelspec": {
   "display_name": "base",
   "language": "python",
   "name": "python3"
  },
  "language_info": {
   "codemirror_mode": {
    "name": "ipython",
    "version": 3
   },
   "file_extension": ".py",
   "mimetype": "text/x-python",
   "name": "python",
   "nbconvert_exporter": "python",
   "pygments_lexer": "ipython3",
   "version": "3.13.5"
  }
 },
 "nbformat": 4,
 "nbformat_minor": 5
}
